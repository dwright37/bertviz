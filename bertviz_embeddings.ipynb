{
 "cells": [
  {
   "cell_type": "code",
   "execution_count": 1,
   "metadata": {},
   "outputs": [],
   "source": [
    "%load_ext autoreload\n",
    "%autoreload 2"
   ]
  },
  {
   "cell_type": "code",
   "execution_count": 2,
   "metadata": {},
   "outputs": [
    {
     "name": "stdout",
     "output_type": "stream",
     "text": [
      "Better speed can be achieved with apex installed from https://www.github.com/nvidia/apex.\n"
     ]
    }
   ],
   "source": [
    "from bertviz.representation_viz import RepresentationData, VerbVisualizationData\n",
    "from bertviz.pytorch_pretrained_bert import BertModel, BertTokenizer\n",
    "from bertviz.save_embeddings import save_embeddings"
   ]
  },
  {
   "cell_type": "code",
   "execution_count": 33,
   "metadata": {},
   "outputs": [
    {
     "name": "stderr",
     "output_type": "stream",
     "text": [
      "02/19/2019 11:42:30 - INFO - bertviz.pytorch_pretrained_bert.modeling -   loading archive file https://s3.amazonaws.com/models.huggingface.co/bert/bert-base-uncased.tar.gz from cache at /Users/dbw003/.pytorch_pretrained_bert/9c41111e2de84547a463fd39217199738d1e3deb72d4fec4399e6e241983c6f0.ae3cef932725ca7a30cdcb93fc6e09150a55e2a130ec7af63975a16c153ae2ba\n",
      "02/19/2019 11:42:30 - INFO - bertviz.pytorch_pretrained_bert.modeling -   extracting archive file /Users/dbw003/.pytorch_pretrained_bert/9c41111e2de84547a463fd39217199738d1e3deb72d4fec4399e6e241983c6f0.ae3cef932725ca7a30cdcb93fc6e09150a55e2a130ec7af63975a16c153ae2ba to temp dir /var/folders/tt/6fkylh2177j2425qfx281qmm0000gp/T/tmp_qm3hj2j\n",
      "02/19/2019 11:42:33 - INFO - bertviz.pytorch_pretrained_bert.modeling -   Model config {\n",
      "  \"attention_probs_dropout_prob\": 0.1,\n",
      "  \"hidden_act\": \"gelu\",\n",
      "  \"hidden_dropout_prob\": 0.1,\n",
      "  \"hidden_size\": 768,\n",
      "  \"initializer_range\": 0.02,\n",
      "  \"intermediate_size\": 3072,\n",
      "  \"max_position_embeddings\": 512,\n",
      "  \"num_attention_heads\": 12,\n",
      "  \"num_hidden_layers\": 12,\n",
      "  \"type_vocab_size\": 2,\n",
      "  \"vocab_size\": 30522\n",
      "}\n",
      "\n",
      "02/19/2019 11:42:35 - INFO - bertviz.pytorch_pretrained_bert.tokenization -   loading vocabulary file https://s3.amazonaws.com/models.huggingface.co/bert/bert-base-uncased-vocab.txt from cache at /Users/dbw003/.pytorch_pretrained_bert/26bc1ad6c0ac742e9b52263248f6d0f00068293b33709fae12320c0e35ccfbbb.542ce4285a40d23a559526243235df47c5f75c197f04f37d1a0c124c32c9a084\n"
     ]
    }
   ],
   "source": [
    "#bert_version = '../UCSD-NLP/entity_normalization/data/embeddings/pubmed_pmc_470k/biobert_pytorch/'\n",
    "bert_version = 'bert-base-uncased'\n",
    "model = BertModel.from_pretrained(bert_version)\n",
    "tokenizer = BertTokenizer.from_pretrained(bert_version)\n",
    "sentences = ['I ran to the store.', 'I ran for president.', 'I ran for congress.']"
   ]
  },
  {
   "cell_type": "code",
   "execution_count": 34,
   "metadata": {},
   "outputs": [],
   "source": [
    "rep_data = RepresentationData(model, tokenizer)\n",
    "toks_all = []\n",
    "reps_all = []\n",
    "\n",
    "for sent in sentences:\n",
    "    tokens, reps = rep_data.get_data(sent)\n",
    "    toks_all.append(tokens)\n",
    "    reps_all.append(reps)"
   ]
  },
  {
   "cell_type": "code",
   "execution_count": 35,
   "metadata": {},
   "outputs": [],
   "source": [
    "from collections import defaultdict\n",
    "import numpy as np\n",
    "\n",
    "embs = defaultdict(lambda: [None, [], [], []])\n",
    "for j,(reps, tokens) in enumerate(zip(reps_all, toks_all)):\n",
    "    for i,layer in enumerate(reps):\n",
    "        embs['layer%d'%i][1].append(layer)\n",
    "        embs['layer%d'%i][2].extend(tokens)\n",
    "        embs['layer%d'%i][3].extend([j] * len(tokens))\n",
    "        #embs['layer%d'%i].extend([None, layer, tokens, [j] * len(tokens)])\n",
    "for i,layer in enumerate(reps):\n",
    "    embs['layer%d'%i][1] = np.vstack(embs['layer%d'%i][1])"
   ]
  },
  {
   "cell_type": "code",
   "execution_count": 36,
   "metadata": {},
   "outputs": [],
   "source": [
    "save_embeddings(embs, './hidden_viz')"
   ]
  },
  {
   "cell_type": "markdown",
   "metadata": {},
   "source": [
    "# Verb clustering visualization"
   ]
  },
  {
   "cell_type": "code",
   "execution_count": 6,
   "metadata": {},
   "outputs": [
    {
     "name": "stderr",
     "output_type": "stream",
     "text": [
      "02/21/2019 12:54:46 - INFO - bertviz.pytorch_pretrained_bert.modeling -   loading archive file ../UCSD-NLP/entity_normalization/data/embeddings/pubmed_pmc_470k/biobert_pytorch/\n",
      "02/21/2019 12:54:46 - INFO - bertviz.pytorch_pretrained_bert.modeling -   Model config {\n",
      "  \"attention_probs_dropout_prob\": 0.1,\n",
      "  \"hidden_act\": \"gelu\",\n",
      "  \"hidden_dropout_prob\": 0.1,\n",
      "  \"hidden_size\": 768,\n",
      "  \"initializer_range\": 0.02,\n",
      "  \"intermediate_size\": 3072,\n",
      "  \"max_position_embeddings\": 512,\n",
      "  \"num_attention_heads\": 12,\n",
      "  \"num_hidden_layers\": 12,\n",
      "  \"type_vocab_size\": 2,\n",
      "  \"vocab_size\": 28996\n",
      "}\n",
      "\n",
      "02/21/2019 12:54:48 - INFO - bertviz.pytorch_pretrained_bert.tokenization -   loading vocabulary file ../UCSD-NLP/entity_normalization/data/embeddings/pubmed_pmc_470k/biobert_pytorch/vocab.txt\n"
     ]
    }
   ],
   "source": [
    "import pandas as pd\n",
    "import random\n",
    "import itertools\n",
    "\n",
    "snippets = pd.read_csv('./verb_snippets.txt', sep='\\t')\n",
    "samples = snippets.iloc[random.sample(range(snippets.shape[0]), 1000)]\n",
    "sentences = samples.values[:,3]\n",
    "bacteria_locations = [[s.split(':')[0] for s in sample[4:-2].split(' ')] for sample in samples.values[:,1]]\n",
    "disease_locations = [[s.split(':')[0] for s in sample[4:-2].split(' ')] for sample in samples.values[:,2] ]\n",
    "boundaries = []\n",
    "for bac,dis in zip(bacteria_locations, disease_locations):\n",
    "    locations = [tuple(sorted([int(k) for k in t])) for t in list(itertools.product(bac,dis))]\n",
    "    boundaries.append(locations)\n",
    "\n",
    "\n",
    "bert_version = '../UCSD-NLP/entity_normalization/data/embeddings/pubmed_pmc_470k/biobert_pytorch/'\n",
    "#bert_version = 'bert-base-uncased'\n",
    "model = BertModel.from_pretrained(bert_version)\n",
    "tokenizer = BertTokenizer.from_pretrained(bert_version)"
   ]
  },
  {
   "cell_type": "code",
   "execution_count": 7,
   "metadata": {},
   "outputs": [
    {
     "data": {
      "text/plain": [
       "1000"
      ]
     },
     "execution_count": 7,
     "metadata": {},
     "output_type": "execute_result"
    }
   ],
   "source": [
    "len(boundaries)"
   ]
  },
  {
   "cell_type": "code",
   "execution_count": 5,
   "metadata": {},
   "outputs": [],
   "source": [
    "rep_data = VerbVisualizationData(model, tokenizer)\n",
    "toks_all = []\n",
    "reps_all = []\n",
    "groups_all = []\n",
    "\n",
    "for sent,bounds in zip(sentences, boundaries):\n",
    "    tokens, reps, groups = rep_data.get_data(sent, bounds)\n",
    "    toks_all.append(tokens)\n",
    "    reps_all.append(reps)\n",
    "    groups_all.append(groups)"
   ]
  },
  {
   "cell_type": "code",
   "execution_count": 6,
   "metadata": {},
   "outputs": [],
   "source": [
    "from collections import defaultdict\n",
    "import numpy as np\n",
    "\n",
    "embs = defaultdict(lambda: [None, [], [], [], []])\n",
    "for j,(reps, tokens, groups) in enumerate(zip(reps_all, toks_all, groups_all)):\n",
    "    for i,layer in enumerate(reps):\n",
    "        embs['layer%d'%i][1].append(layer) #Tensor\n",
    "        embs['layer%d'%i][2].extend(tokens) #Tokens\n",
    "        embs['layer%d'%i][3].extend(groups) #Group ID\n",
    "        embs['layer%d'%i][4].extend([j] * len(tokens)) #Sentence ID\n",
    "        #embs['layer%d'%i].extend([None, layer, tokens, [j] * len(tokens)])\n",
    "for i,layer in enumerate(reps):\n",
    "    embs['layer%d'%i][1] = np.vstack(embs['layer%d'%i][1])"
   ]
  },
  {
   "cell_type": "code",
   "execution_count": 7,
   "metadata": {},
   "outputs": [],
   "source": [
    "save_embeddings(embs, './verb_viz')"
   ]
  },
  {
   "cell_type": "markdown",
   "metadata": {},
   "source": [
    "# Saving off the verb vectors for clustering"
   ]
  },
  {
   "cell_type": "code",
   "execution_count": 3,
   "metadata": {},
   "outputs": [
    {
     "name": "stderr",
     "output_type": "stream",
     "text": [
      "02/21/2019 12:56:55 - INFO - bertviz.pytorch_pretrained_bert.modeling -   loading archive file ../UCSD-NLP/entity_normalization/data/embeddings/pubmed_pmc_470k/biobert_pytorch/\n",
      "02/21/2019 12:56:55 - INFO - bertviz.pytorch_pretrained_bert.modeling -   Model config {\n",
      "  \"attention_probs_dropout_prob\": 0.1,\n",
      "  \"hidden_act\": \"gelu\",\n",
      "  \"hidden_dropout_prob\": 0.1,\n",
      "  \"hidden_size\": 768,\n",
      "  \"initializer_range\": 0.02,\n",
      "  \"intermediate_size\": 3072,\n",
      "  \"max_position_embeddings\": 512,\n",
      "  \"num_attention_heads\": 12,\n",
      "  \"num_hidden_layers\": 12,\n",
      "  \"type_vocab_size\": 2,\n",
      "  \"vocab_size\": 28996\n",
      "}\n",
      "\n",
      "02/21/2019 12:56:57 - INFO - bertviz.pytorch_pretrained_bert.tokenization -   loading vocabulary file ../UCSD-NLP/entity_normalization/data/embeddings/pubmed_pmc_470k/biobert_pytorch/vocab.txt\n"
     ]
    }
   ],
   "source": [
    "import pandas as pd\n",
    "import random\n",
    "import itertools\n",
    "import numpy as np\n",
    "from tqdm import tqdm_notebook\n",
    "\n",
    "samples = pd.read_csv('./verb_snippets.txt', sep='\\t')\n",
    "sentences = samples.values[:,3]\n",
    "bacteria_locations = [[s.split(':')[0] for s in sample[4:-2].split(' ')] for sample in samples.values[:,1]]\n",
    "disease_locations = [[s.split(':')[0] for s in sample[4:-2].split(' ')] for sample in samples.values[:,2] ]\n",
    "boundaries = []\n",
    "for bac,dis in zip(bacteria_locations, disease_locations):\n",
    "    locations = [tuple(sorted([int(k) for k in t])) for t in list(itertools.product(bac,dis))]\n",
    "    boundaries.append(locations)\n",
    "\n",
    "\n",
    "bert_version = '../UCSD-NLP/entity_normalization/data/embeddings/pubmed_pmc_470k/biobert_pytorch/'\n",
    "#bert_version = 'bert-base-uncased'\n",
    "model = BertModel.from_pretrained(bert_version)\n",
    "tokenizer = BertTokenizer.from_pretrained(bert_version)"
   ]
  },
  {
   "cell_type": "code",
   "execution_count": 24,
   "metadata": {},
   "outputs": [],
   "source": [
    "pmids = samples.values[:,0]"
   ]
  },
  {
   "cell_type": "code",
   "execution_count": 17,
   "metadata": {},
   "outputs": [],
   "source": [
    "import tables\n",
    "import numpy as np\n",
    "\n",
    "filename = './verb_clustering/vectors.h5'\n",
    "ROW_SIZE = 768\n",
    "f = tables.open_file(filename, mode='w')\n",
    "atom = tables.Float32Atom()\n",
    "array_c = f.create_earray(f.root, 'data', atom, (0, ROW_SIZE))\n",
    "f.close()\n",
    "\n",
    "with open('./verb_clustering/metadata.tsv', 'w') as f:\n",
    "    f.write(\"index\\tverb\\tsentence\\n\")\n",
    "    \n",
    "rep_data = VerbVisualizationData(model, tokenizer)\n",
    "reps_all = []\n",
    "verbs_all = []\n",
    "idxs_all = []\n",
    "sentences_all = []"
   ]
  },
  {
   "cell_type": "code",
   "execution_count": 18,
   "metadata": {},
   "outputs": [
    {
     "name": "stdout",
     "output_type": "stream",
     "text": [
      "Starting from index 0\n"
     ]
    },
    {
     "data": {
      "application/vnd.jupyter.widget-view+json": {
       "model_id": "fd3a775d387a4630a5ac7496c49b381c",
       "version_major": 2,
       "version_minor": 0
      },
      "text/plain": [
       "HBox(children=(IntProgress(value=0, max=664260), HTML(value='')))"
      ]
     },
     "metadata": {},
     "output_type": "display_data"
    },
    {
     "ename": "ValueError",
     "evalue": "the ranks of the appended object (1) and the ``/data`` EArray (2) differ",
     "output_type": "error",
     "traceback": [
      "\u001b[0;31m---------------------------------------------------------------------------\u001b[0m",
      "\u001b[0;31mValueError\u001b[0m                                Traceback (most recent call last)",
      "\u001b[0;32m<ipython-input-18-94baaae20314>\u001b[0m in \u001b[0;36m<module>\u001b[0;34m()\u001b[0m\n\u001b[1;32m     28\u001b[0m \u001b[0mf\u001b[0m \u001b[0;34m=\u001b[0m \u001b[0mtables\u001b[0m\u001b[0;34m.\u001b[0m\u001b[0mopen_file\u001b[0m\u001b[0;34m(\u001b[0m\u001b[0mfilename\u001b[0m\u001b[0;34m,\u001b[0m \u001b[0mmode\u001b[0m\u001b[0;34m=\u001b[0m\u001b[0;34m'a'\u001b[0m\u001b[0;34m)\u001b[0m\u001b[0;34m\u001b[0m\u001b[0m\n\u001b[1;32m     29\u001b[0m \u001b[0;32mfor\u001b[0m \u001b[0mx\u001b[0m \u001b[0;32min\u001b[0m \u001b[0mreps_all\u001b[0m\u001b[0;34m:\u001b[0m\u001b[0;34m\u001b[0m\u001b[0m\n\u001b[0;32m---> 30\u001b[0;31m     \u001b[0mf\u001b[0m\u001b[0;34m.\u001b[0m\u001b[0mroot\u001b[0m\u001b[0;34m.\u001b[0m\u001b[0mdata\u001b[0m\u001b[0;34m.\u001b[0m\u001b[0mappend\u001b[0m\u001b[0;34m(\u001b[0m\u001b[0mx\u001b[0m\u001b[0;34m)\u001b[0m\u001b[0;34m\u001b[0m\u001b[0m\n\u001b[0m\u001b[1;32m     31\u001b[0m \u001b[0mf\u001b[0m\u001b[0;34m.\u001b[0m\u001b[0mclose\u001b[0m\u001b[0;34m(\u001b[0m\u001b[0;34m)\u001b[0m\u001b[0;34m\u001b[0m\u001b[0m\n\u001b[1;32m     32\u001b[0m \u001b[0mreps_all\u001b[0m \u001b[0;34m=\u001b[0m \u001b[0;34m[\u001b[0m\u001b[0;34m]\u001b[0m\u001b[0;34m\u001b[0m\u001b[0m\n",
      "\u001b[0;32m~/anaconda3/envs/entity_normalization/lib/python3.5/site-packages/tables/earray.py\u001b[0m in \u001b[0;36mappend\u001b[0;34m(self, sequence)\u001b[0m\n\u001b[1;32m    219\u001b[0m         \u001b[0mnparr\u001b[0m \u001b[0;34m=\u001b[0m \u001b[0mconvert_to_np_atom2\u001b[0m\u001b[0;34m(\u001b[0m\u001b[0msequence\u001b[0m\u001b[0;34m,\u001b[0m \u001b[0mself\u001b[0m\u001b[0;34m.\u001b[0m\u001b[0matom\u001b[0m\u001b[0;34m)\u001b[0m\u001b[0;34m\u001b[0m\u001b[0m\n\u001b[1;32m    220\u001b[0m         \u001b[0;31m# Check if it has a consistent shape with underlying EArray\u001b[0m\u001b[0;34m\u001b[0m\u001b[0;34m\u001b[0m\u001b[0m\n\u001b[0;32m--> 221\u001b[0;31m         \u001b[0mself\u001b[0m\u001b[0;34m.\u001b[0m\u001b[0m_check_shape_append\u001b[0m\u001b[0;34m(\u001b[0m\u001b[0mnparr\u001b[0m\u001b[0;34m)\u001b[0m\u001b[0;34m\u001b[0m\u001b[0m\n\u001b[0m\u001b[1;32m    222\u001b[0m         \u001b[0;31m# If the size of the nparr is zero, don't do anything else\u001b[0m\u001b[0;34m\u001b[0m\u001b[0;34m\u001b[0m\u001b[0m\n\u001b[1;32m    223\u001b[0m         \u001b[0;32mif\u001b[0m \u001b[0mnparr\u001b[0m\u001b[0;34m.\u001b[0m\u001b[0msize\u001b[0m \u001b[0;34m>\u001b[0m \u001b[0;36m0\u001b[0m\u001b[0;34m:\u001b[0m\u001b[0;34m\u001b[0m\u001b[0m\n",
      "\u001b[0;32m~/anaconda3/envs/entity_normalization/lib/python3.5/site-packages/tables/earray.py\u001b[0m in \u001b[0;36m_check_shape_append\u001b[0;34m(self, nparr)\u001b[0m\n\u001b[1;32m    193\u001b[0m             raise ValueError((\"the ranks of the appended object (%d) and the \"\n\u001b[1;32m    194\u001b[0m                               \"``%s`` EArray (%d) differ\")\n\u001b[0;32m--> 195\u001b[0;31m                              % (narank, self._v_pathname, myrank))\n\u001b[0m\u001b[1;32m    196\u001b[0m         \u001b[0;32mfor\u001b[0m \u001b[0mi\u001b[0m \u001b[0;32min\u001b[0m \u001b[0mrange\u001b[0m\u001b[0;34m(\u001b[0m\u001b[0mmyrank\u001b[0m\u001b[0;34m)\u001b[0m\u001b[0;34m:\u001b[0m\u001b[0;34m\u001b[0m\u001b[0m\n\u001b[1;32m    197\u001b[0m             \u001b[0;32mif\u001b[0m \u001b[0mi\u001b[0m \u001b[0;34m!=\u001b[0m \u001b[0mself\u001b[0m\u001b[0;34m.\u001b[0m\u001b[0mextdim\u001b[0m \u001b[0;32mand\u001b[0m \u001b[0mself\u001b[0m\u001b[0;34m.\u001b[0m\u001b[0mshape\u001b[0m\u001b[0;34m[\u001b[0m\u001b[0mi\u001b[0m\u001b[0;34m]\u001b[0m \u001b[0;34m!=\u001b[0m \u001b[0mnparr\u001b[0m\u001b[0;34m.\u001b[0m\u001b[0mshape\u001b[0m\u001b[0;34m[\u001b[0m\u001b[0mi\u001b[0m\u001b[0;34m]\u001b[0m\u001b[0;34m:\u001b[0m\u001b[0;34m\u001b[0m\u001b[0m\n",
      "\u001b[0;31mValueError\u001b[0m: the ranks of the appended object (1) and the ``/data`` EArray (2) differ"
     ]
    }
   ],
   "source": [
    "start_index = len([l for l in open('./verb_clustering/metadata.tsv')]) - 1\n",
    "print(\"Starting from index %d\"%(start_index))\n",
    "\n",
    "for i, (sent,bounds) in enumerate(tqdm_notebook(zip(sentences[start_index:], boundaries[start_index:]), total=len(sentences[start_index:]))):\n",
    "    tokens, reps, groups, verb_idxs, bert_verb_idxs = rep_data.get_data(sent, bounds)\n",
    "    for idx,bidx in zip(verb_idxs, bert_verb_idxs):\n",
    "        sentences_all.append(sent)\n",
    "        reps_all.append(reps[-1,bidx,:])\n",
    "        verbs_all.append(tokens[bidx])\n",
    "        idxs_all.append(idx)\n",
    "    \n",
    "    #Save off every 10000 iterations since this takes 5ever\n",
    "    if (i+1) % 10000 == 0:\n",
    "        f = tables.open_file(filename, mode='a')\n",
    "        for x in reps_all:\n",
    "            f.root.data.append(np.expand_dims(x, 0))\n",
    "        f.close()\n",
    "        reps_all = []\n",
    "        \n",
    "        with open('./verb_clustering/metadata.tsv', 'a+') as f:\n",
    "            for idx,verb,phrase in zip(idxs_all, verbs_all, sentences_all):\n",
    "                f.write(\"\\t\".join([str(idx), verb, phrase]) + '\\n')\n",
    "        idxs_all = []\n",
    "        verbs_all = []\n",
    "        sentences_all = []\n",
    "\n",
    "#Finish   \n",
    "f = tables.open_file(filename, mode='a')\n",
    "for x in reps_all:\n",
    "    f.root.data.append(np.expand_dims(x, 0))\n",
    "f.close()\n",
    "reps_all = []\n",
    "\n",
    "with open('./verb_clustering/metadata.tsv', 'a+') as f:\n",
    "    for idx,verb,phrase in zip(idxs_all, verbs_all, sentences_all):\n",
    "        f.write(\"\\t\".join([str(idx), verb, phrase]) + '\\n')\n",
    "idxs_all = []\n",
    "verbs_all = []\n",
    "sentences_all = []"
   ]
  },
  {
   "cell_type": "code",
   "execution_count": 22,
   "metadata": {},
   "outputs": [],
   "source": [
    "#Finish   \n",
    "f = tables.open_file(filename, mode='a')\n",
    "for x in reps_all:\n",
    "    f.root.data.append(np.expand_dims(x, 0))\n",
    "f.close()\n",
    "reps_all = []\n",
    "\n",
    "with open('./verb_clustering/metadata.tsv', 'a+') as f:\n",
    "    for idx,verb,phrase in zip(idxs_all, verbs_all, sentences_all):\n",
    "        f.write(\"\\t\".join([str(idx), verb, phrase]) + '\\n')\n",
    "idxs_all = []\n",
    "verbs_all = []\n",
    "sentences_all = []"
   ]
  },
  {
   "cell_type": "code",
   "execution_count": 21,
   "metadata": {},
   "outputs": [
    {
     "data": {
      "text/plain": [
       "(768,)"
      ]
     },
     "execution_count": 21,
     "metadata": {},
     "output_type": "execute_result"
    }
   ],
   "source": [
    "reps_all[0].shape"
   ]
  },
  {
   "cell_type": "code",
   "execution_count": 28,
   "metadata": {},
   "outputs": [
    {
     "data": {
      "application/vnd.jupyter.widget-view+json": {
       "model_id": "2eb30978b00d4a02b55ef5778ae20ab8",
       "version_major": 2,
       "version_minor": 0
      },
      "text/plain": [
       "HBox(children=(IntProgress(value=0, max=664260), HTML(value='')))"
      ]
     },
     "metadata": {},
     "output_type": "display_data"
    }
   ],
   "source": [
    "pmid_list = []\n",
    "for i, (sent,bounds) in enumerate(tqdm_notebook(zip(sentences[start_index:], boundaries[start_index:]), total=len(sentences[start_index:]))):\n",
    "    tokens, reps, groups, verb_idxs, bert_verb_idxs = rep_data.get_data(sent, bounds)\n",
    "    for idx,bidx in zip(verb_idxs, bert_verb_idxs):\n",
    "        pmid_list.append(pmids[i])"
   ]
  },
  {
   "cell_type": "code",
   "execution_count": 23,
   "metadata": {},
   "outputs": [
    {
     "data": {
      "text/plain": [
       "664260"
      ]
     },
     "execution_count": 23,
     "metadata": {},
     "output_type": "execute_result"
    }
   ],
   "source": [
    "len(sentences)"
   ]
  },
  {
   "cell_type": "code",
   "execution_count": 29,
   "metadata": {},
   "outputs": [
    {
     "data": {
      "text/plain": [
       "253188"
      ]
     },
     "execution_count": 29,
     "metadata": {},
     "output_type": "execute_result"
    }
   ],
   "source": [
    "len(pmid_list)"
   ]
  },
  {
   "cell_type": "code",
   "execution_count": 30,
   "metadata": {},
   "outputs": [
    {
     "data": {
      "text/plain": [
       "0"
      ]
     },
     "execution_count": 30,
     "metadata": {},
     "output_type": "execute_result"
    }
   ],
   "source": [
    "start_index"
   ]
  },
  {
   "cell_type": "code",
   "execution_count": 32,
   "metadata": {},
   "outputs": [],
   "source": [
    "sent_to_pmid = {}\n",
    "for v in samples.values:\n",
    "    if v[3] in sent_to_pmid:\n",
    "        del sent_to_pmid[v[3]]\n",
    "    else:\n",
    "        sent_to_pmid[v[3]] = v[0]"
   ]
  },
  {
   "cell_type": "code",
   "execution_count": 33,
   "metadata": {},
   "outputs": [
    {
     "data": {
      "text/plain": [
       "661846"
      ]
     },
     "execution_count": 33,
     "metadata": {},
     "output_type": "execute_result"
    }
   ],
   "source": [
    "len(sent_to_pmid)"
   ]
  },
  {
   "cell_type": "code",
   "execution_count": 35,
   "metadata": {},
   "outputs": [],
   "source": [
    "metadata = pd.read_csv('./verb_clustering/metadata.tsv', sep='\\t')"
   ]
  },
  {
   "cell_type": "code",
   "execution_count": 36,
   "metadata": {},
   "outputs": [],
   "source": [
    "metadata.insert(0, 'PMID', pmid_list)"
   ]
  },
  {
   "cell_type": "code",
   "execution_count": 37,
   "metadata": {},
   "outputs": [],
   "source": [
    "metadata.to_csv('./verb_clustering/metadata.tsv', sep='\\t', index=None)"
   ]
  },
  {
   "cell_type": "code",
   "execution_count": 38,
   "metadata": {},
   "outputs": [
    {
     "data": {
      "text/plain": [
       "0"
      ]
     },
     "execution_count": 38,
     "metadata": {},
     "output_type": "execute_result"
    }
   ],
   "source": [
    "len(reps_all)"
   ]
  },
  {
   "cell_type": "code",
   "execution_count": null,
   "metadata": {},
   "outputs": [],
   "source": []
  }
 ],
 "metadata": {
  "kernelspec": {
   "display_name": "entity_normalization",
   "language": "python",
   "name": "entity_normalization"
  },
  "language_info": {
   "codemirror_mode": {
    "name": "ipython",
    "version": 3
   },
   "file_extension": ".py",
   "mimetype": "text/x-python",
   "name": "python",
   "nbconvert_exporter": "python",
   "pygments_lexer": "ipython3",
   "version": "3.5.6"
  }
 },
 "nbformat": 4,
 "nbformat_minor": 2
}
